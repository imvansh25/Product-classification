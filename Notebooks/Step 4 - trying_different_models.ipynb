{
 "cells": [
  {
   "cell_type": "markdown",
   "metadata": {},
   "source": [
    "#### TASK 3 : NLP \n",
    "### Submission To MIDAS LAB\n",
    "File Name : Step 4 -trying_different_models \n",
    "<br>\n",
    "@Author : Vansh Gupta\n",
    "<br>\n",
    "Objective : Different machine learning algorithms' accuracy is recorded."
   ]
  },
  {
   "cell_type": "code",
   "execution_count": 1,
   "metadata": {},
   "outputs": [],
   "source": [
    "import pandas as pd\n",
    "import numpy as np\n",
    "import matplotlib.pyplot as plt\n",
    "from sklearn.feature_extraction.text import TfidfVectorizer\n",
    "from sklearn.model_selection import train_test_split\n",
    "from sklearn.naive_bayes import MultinomialNB\n",
    "from sklearn.preprocessing import OneHotEncoder\n",
    "from sklearn.preprocessing import LabelEncoder\n",
    "from sklearn.metrics import accuracy_score, classification_report\n",
    "from sklearn.ensemble import RandomForestClassifier\n",
    "from sklearn.neighbors import KNeighborsClassifier\n",
    "from sklearn.svm import LinearSVC\n",
    "from sklearn.linear_model import LogisticRegression\n",
    "from sklearn import metrics\n",
    "from sklearn.pipeline import Pipeline\n",
    "from xgboost import XGBClassifier"
   ]
  },
  {
   "cell_type": "code",
   "execution_count": 2,
   "metadata": {},
   "outputs": [],
   "source": [
    "df = pd.read_csv(\"../Data/Done_with_Description.csv\")"
   ]
  },
  {
   "cell_type": "code",
   "execution_count": 3,
   "metadata": {},
   "outputs": [
    {
     "data": {
      "text/html": [
       "<div>\n",
       "<style scoped>\n",
       "    .dataframe tbody tr th:only-of-type {\n",
       "        vertical-align: middle;\n",
       "    }\n",
       "\n",
       "    .dataframe tbody tr th {\n",
       "        vertical-align: top;\n",
       "    }\n",
       "\n",
       "    .dataframe thead th {\n",
       "        text-align: right;\n",
       "    }\n",
       "</style>\n",
       "<table border=\"1\" class=\"dataframe\">\n",
       "  <thead>\n",
       "    <tr style=\"text-align: right;\">\n",
       "      <th></th>\n",
       "      <th>product_category_tree</th>\n",
       "      <th>description</th>\n",
       "      <th>cat_level1</th>\n",
       "      <th>cat_level2</th>\n",
       "      <th>cat_level3</th>\n",
       "      <th>cat_level4</th>\n",
       "      <th>cat_level5</th>\n",
       "      <th>cat_level6</th>\n",
       "      <th>cleaned_text</th>\n",
       "    </tr>\n",
       "  </thead>\n",
       "  <tbody>\n",
       "    <tr>\n",
       "      <th>0</th>\n",
       "      <td>[\"Clothing &gt;&gt; Women's Clothing &gt;&gt; Lingerie, Sl...</td>\n",
       "      <td>Key Features of Alisha Solid Women's Cycling S...</td>\n",
       "      <td>Clothing</td>\n",
       "      <td>Women's Clothing</td>\n",
       "      <td>Lingerie Sleep &amp; Swimwear</td>\n",
       "      <td>Shorts</td>\n",
       "      <td>Alisha Shorts</td>\n",
       "      <td>NaN</td>\n",
       "      <td>feature alisha solid woman cycling short cotto...</td>\n",
       "    </tr>\n",
       "    <tr>\n",
       "      <th>1</th>\n",
       "      <td>[\"Furniture &gt;&gt; Living Room Furniture &gt;&gt; Sofa B...</td>\n",
       "      <td>FabHomeDecor Fabric Double Sofa Bed (Finish Co...</td>\n",
       "      <td>Furniture</td>\n",
       "      <td>Living Room Furniture</td>\n",
       "      <td>Sofa Beds &amp; Futons</td>\n",
       "      <td>NaN</td>\n",
       "      <td>NaN</td>\n",
       "      <td>NaN</td>\n",
       "      <td>fabhomedecor fabric double sofa finish color l...</td>\n",
       "    </tr>\n",
       "    <tr>\n",
       "      <th>2</th>\n",
       "      <td>[\"Footwear &gt;&gt; Women's Footwear &gt;&gt; Ballerinas &gt;...</td>\n",
       "      <td>Key Features of AW Bellies Sandals Wedges Heel...</td>\n",
       "      <td>Footwear</td>\n",
       "      <td>Women's Footwear</td>\n",
       "      <td>Ballerinas</td>\n",
       "      <td>NaN</td>\n",
       "      <td>NaN</td>\n",
       "      <td>NaN</td>\n",
       "      <td>feature belly sandal wedge heel casualsaw bell...</td>\n",
       "    </tr>\n",
       "    <tr>\n",
       "      <th>3</th>\n",
       "      <td>[\"Clothing &gt;&gt; Women's Clothing &gt;&gt; Lingerie, Sl...</td>\n",
       "      <td>Key Features of Alisha Solid Women's Cycling S...</td>\n",
       "      <td>Clothing</td>\n",
       "      <td>Women's Clothing</td>\n",
       "      <td>Lingerie Sleep &amp; Swimwear</td>\n",
       "      <td>Shorts</td>\n",
       "      <td>Alisha Shorts</td>\n",
       "      <td>NaN</td>\n",
       "      <td>feature alisha solid woman cycling short cotto...</td>\n",
       "    </tr>\n",
       "    <tr>\n",
       "      <th>4</th>\n",
       "      <td>[\"Pet Supplies &gt;&gt; Grooming &gt;&gt; Skin &amp; Coat Care...</td>\n",
       "      <td>Specifications of Sicons All Purpose Arnica Do...</td>\n",
       "      <td>Pet Supplies</td>\n",
       "      <td>Grooming</td>\n",
       "      <td>Skin &amp; Coat Care</td>\n",
       "      <td>Shampoo</td>\n",
       "      <td>NaN</td>\n",
       "      <td>NaN</td>\n",
       "      <td>specification sicons purpose arnica shampoo ge...</td>\n",
       "    </tr>\n",
       "  </tbody>\n",
       "</table>\n",
       "</div>"
      ],
      "text/plain": [
       "                               product_category_tree  \\\n",
       "0  [\"Clothing >> Women's Clothing >> Lingerie, Sl...   \n",
       "1  [\"Furniture >> Living Room Furniture >> Sofa B...   \n",
       "2  [\"Footwear >> Women's Footwear >> Ballerinas >...   \n",
       "3  [\"Clothing >> Women's Clothing >> Lingerie, Sl...   \n",
       "4  [\"Pet Supplies >> Grooming >> Skin & Coat Care...   \n",
       "\n",
       "                                         description     cat_level1  \\\n",
       "0  Key Features of Alisha Solid Women's Cycling S...      Clothing    \n",
       "1  FabHomeDecor Fabric Double Sofa Bed (Finish Co...     Furniture    \n",
       "2  Key Features of AW Bellies Sandals Wedges Heel...      Footwear    \n",
       "3  Key Features of Alisha Solid Women's Cycling S...      Clothing    \n",
       "4  Specifications of Sicons All Purpose Arnica Do...  Pet Supplies    \n",
       "\n",
       "                cat_level2                   cat_level3 cat_level4  \\\n",
       "0        Women's Clothing    Lingerie Sleep & Swimwear     Shorts    \n",
       "1   Living Room Furniture           Sofa Beds & Futons         NaN   \n",
       "2        Women's Footwear                   Ballerinas         NaN   \n",
       "3        Women's Clothing    Lingerie Sleep & Swimwear     Shorts    \n",
       "4                Grooming             Skin & Coat Care    Shampoo    \n",
       "\n",
       "        cat_level5 cat_level6  \\\n",
       "0   Alisha Shorts         NaN   \n",
       "1              NaN        NaN   \n",
       "2              NaN        NaN   \n",
       "3   Alisha Shorts         NaN   \n",
       "4              NaN        NaN   \n",
       "\n",
       "                                        cleaned_text  \n",
       "0  feature alisha solid woman cycling short cotto...  \n",
       "1  fabhomedecor fabric double sofa finish color l...  \n",
       "2  feature belly sandal wedge heel casualsaw bell...  \n",
       "3  feature alisha solid woman cycling short cotto...  \n",
       "4  specification sicons purpose arnica shampoo ge...  "
      ]
     },
     "execution_count": 3,
     "metadata": {},
     "output_type": "execute_result"
    }
   ],
   "source": [
    "df.head()"
   ]
  },
  {
   "cell_type": "code",
   "execution_count": 4,
   "metadata": {},
   "outputs": [],
   "source": [
    "## droping rows where value of cat_level1 is na\n",
    "df.dropna(subset=[\"cat_level1\"], inplace=True)\n",
    "X = df[\"cleaned_text\"].values\n",
    "y = df[\"cat_level1\"].values"
   ]
  },
  {
   "cell_type": "code",
   "execution_count": 5,
   "metadata": {},
   "outputs": [
    {
     "name": "stdout",
     "output_type": "stream",
     "text": [
      "(19661,) (19661,)\n"
     ]
    }
   ],
   "source": [
    "print(X.shape, y.shape)"
   ]
  },
  {
   "cell_type": "markdown",
   "metadata": {},
   "source": [
    "## Tf-idf Vectorization"
   ]
  },
  {
   "cell_type": "code",
   "execution_count": 6,
   "metadata": {},
   "outputs": [
    {
     "name": "stdout",
     "output_type": "stream",
     "text": [
      "(13762, 27954) (5899, 27954) (13762,) (5899,)\n"
     ]
    }
   ],
   "source": [
    "## Vectorizing using Tf-idf\n",
    "td = TfidfVectorizer()\n",
    "X = td.fit_transform(X)\n",
    "\n",
    "# Splitting into training & test subsets\n",
    "\n",
    "X_train, X_test, y_train, y_test = train_test_split(\n",
    "    X, y, test_size=0.3, random_state=1\n",
    ")\n",
    "print(X_train.shape, X_test.shape, y_train.shape, y_test.shape)"
   ]
  },
  {
   "cell_type": "code",
   "execution_count": 7,
   "metadata": {},
   "outputs": [],
   "source": [
    "\"\"\"\n",
    "Function_name: print_accuracy_parameters\n",
    "Input: y_test,prediction\n",
    "Output: prints accuracy,precision,recall,F1\n",
    "Logic: print classification report \n",
    "\"\"\"\n",
    "\n",
    "\n",
    "def print_accuracy_parameters(y_test, prediction):\n",
    "    print(\"Accuracy \")\n",
    "    print(metrics.accuracy_score(y_test, predictions) * 100)\n",
    "    print(\"Precision \")\n",
    "    print(\n",
    "        metrics.precision_score(y_test, predictions, average=\"weighted\") * 100\n",
    "    )\n",
    "    print(\"Recall\")\n",
    "    print(metrics.recall_score(y_test, predictions, average=\"weighted\") * 100)\n",
    "    print(\"F1\")\n",
    "    print(metrics.f1_score(y_test, predictions, average=\"weighted\") * 100)"
   ]
  },
  {
   "cell_type": "markdown",
   "metadata": {},
   "source": [
    "## KNN"
   ]
  },
  {
   "cell_type": "code",
   "execution_count": 9,
   "metadata": {},
   "outputs": [
    {
     "name": "stdout",
     "output_type": "stream",
     "text": [
      "Accuracy \n",
      "94.93134429564333\n",
      "Precision \n",
      "94.95522855225465\n",
      "Recall\n",
      "94.93134429564333\n",
      "F1\n",
      "94.8487797916865\n"
     ]
    }
   ],
   "source": [
    "knn = KNeighborsClassifier()\n",
    "knn.fit(X_train, y_train)\n",
    "predictions = knn.predict(X_test)\n",
    "# Print the overall accuracy, along with weighted precision, weighted recall and f1 scores\n",
    "print_accuracy_parameters(y_test, predictions)"
   ]
  },
  {
   "cell_type": "markdown",
   "metadata": {},
   "source": [
    "## SVM"
   ]
  },
  {
   "cell_type": "code",
   "execution_count": 10,
   "metadata": {},
   "outputs": [
    {
     "name": "stdout",
     "output_type": "stream",
     "text": [
      "Accuracy \n",
      "97.27072385150025\n",
      "Precision \n",
      "97.28383115023304\n",
      "Recall\n",
      "97.27072385150025\n",
      "F1\n",
      "97.23922157336982\n"
     ]
    }
   ],
   "source": [
    "linear_svc = LinearSVC()\n",
    "linear_svc.fit(X_train, y_train)\n",
    "predictions = linear_svc.predict(X_test)\n",
    "# Print the overall accuracy, along with weighted precision, weighted recall and f1 scores\n",
    "print_accuracy_parameters(y_test, predictions)"
   ]
  },
  {
   "cell_type": "markdown",
   "metadata": {},
   "source": [
    "## Naive Bayes"
   ]
  },
  {
   "cell_type": "code",
   "execution_count": 11,
   "metadata": {},
   "outputs": [
    {
     "name": "stdout",
     "output_type": "stream",
     "text": [
      "Accuracy \n",
      "81.13239532124089\n",
      "Precision \n",
      "80.9461666630755\n",
      "Recall\n",
      "81.13239532124089\n",
      "F1\n",
      "77.47048148241625\n",
      "C:\\Users\\VANSH GUPTA\\AppData\\Local\\Programs\\Python\\Python37\\lib\\site-packages\\sklearn\\metrics\\_classification.py:1221: UndefinedMetricWarning: Precision is ill-defined and being set to 0.0 in labels with no predicted samples. Use `zero_division` parameter to control this behavior.\n",
      "  _warn_prf(average, modifier, msg_start, len(result))\n"
     ]
    }
   ],
   "source": [
    "MNB = MultinomialNB()\n",
    "MNB.fit(X_train, y_train)\n",
    "predictions = MNB.predict(X_test)\n",
    "print_accuracy_parameters(y_test, predictions)"
   ]
  },
  {
   "cell_type": "markdown",
   "metadata": {},
   "source": [
    "## Random Forest"
   ]
  },
  {
   "cell_type": "code",
   "execution_count": 12,
   "metadata": {},
   "outputs": [
    {
     "name": "stdout",
     "output_type": "stream",
     "text": [
      "Accuracy \n",
      "95.57552127479234\n",
      "Precision \n",
      "95.56886239481655\n",
      "Recall\n",
      "95.57552127479234\n",
      "F1\n",
      "95.34461570967437\n",
      "C:\\Users\\VANSH GUPTA\\AppData\\Local\\Programs\\Python\\Python37\\lib\\site-packages\\sklearn\\metrics\\_classification.py:1221: UndefinedMetricWarning: Precision is ill-defined and being set to 0.0 in labels with no predicted samples. Use `zero_division` parameter to control this behavior.\n",
      "  _warn_prf(average, modifier, msg_start, len(result))\n"
     ]
    }
   ],
   "source": [
    "clf = RandomForestClassifier(n_estimators=100)\n",
    "clf.fit(X_train, y_train)\n",
    "predictions = clf.predict(X_test)\n",
    "print_accuracy_parameters(y_test, predictions)"
   ]
  },
  {
   "cell_type": "markdown",
   "metadata": {},
   "source": [
    "## XGboost"
   ]
  },
  {
   "cell_type": "code",
   "execution_count": 13,
   "metadata": {},
   "outputs": [
    {
     "name": "stderr",
     "output_type": "stream",
     "text": [
      "C:\\Users\\VANSH GUPTA\\AppData\\Local\\Programs\\Python\\Python37\\lib\\site-packages\\xgboost\\sklearn.py:888: UserWarning: The use of label encoder in XGBClassifier is deprecated and will be removed in a future release. To remove this warning, do the following: 1) Pass option use_label_encoder=False when constructing XGBClassifier object; and 2) Encode your labels (y) as integers starting with 0, i.e. 0, 1, 2, ..., [num_class - 1].\n",
      "  warnings.warn(label_encoder_deprecation_msg, UserWarning)\n",
      "[21:51:56] WARNING: C:/Users/Administrator/workspace/xgboost-win64_release_1.3.0/src/learner.cc:1061: Starting in XGBoost 1.3.0, the default evaluation metric used with the objective 'multi:softprob' was changed from 'merror' to 'mlogloss'. Explicitly set eval_metric if you'd like to restore the old behavior.\n",
      "Accuracy \n",
      "96.86387523309035\n",
      "Precision \n",
      "96.89488612438547\n",
      "Recall\n",
      "96.86387523309035\n",
      "F1\n",
      "96.83778530686874\n"
     ]
    }
   ],
   "source": [
    "model = XGBClassifier()\n",
    "\n",
    "model.fit(X_train, y_train)\n",
    "\n",
    "predictions = model.predict(X_test)\n",
    "\n",
    "# Accuracy Score on test dataset\n",
    "print_accuracy_parameters(y_test, predictions)"
   ]
  },
  {
   "cell_type": "code",
   "execution_count": null,
   "metadata": {},
   "outputs": [],
   "source": []
  }
 ],
 "metadata": {
  "kernelspec": {
   "display_name": "Python 3",
   "language": "python",
   "name": "python3"
  },
  "language_info": {
   "codemirror_mode": {
    "name": "ipython",
    "version": 3
   },
   "file_extension": ".py",
   "mimetype": "text/x-python",
   "name": "python",
   "nbconvert_exporter": "python",
   "pygments_lexer": "ipython3",
   "version": "3.8.5"
  },
  "metadata": {
   "interpreter": {
    "hash": "81c591a7e950bbc20df9157210399e920b6eb5cc08dbdb6b6a9d0b4c3e425ca6"
   }
  }
 },
 "nbformat": 4,
 "nbformat_minor": 2
}