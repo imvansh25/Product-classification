{
 "cells": [
  {
   "cell_type": "markdown",
   "metadata": {},
   "source": [
    "# TASK 3 : NLP \n",
    "### Submission To MIDAS LAB\n",
    "File Name : Step-3Text preprocessing \n",
    "<br>\n",
    "@Author : Vansh Gupta\n",
    "<br>\n",
    "Objective : We'll be dealing with description in this notebook. Data(Text) cleaning is one of the tasks that will be completed here. "
   ]
  },
  {
   "cell_type": "code",
   "execution_count": 1,
   "metadata": {},
   "outputs": [],
   "source": [
    "import pandas as pd\n",
    "import numpy as np\n",
    "import matplotlib.pyplot as plt\n",
    "import re\n",
    "import string\n",
    "import nltk\n",
    "from nltk.corpus import stopwords\n",
    "from nltk.stem import WordNetLemmatizer\n",
    "from nltk.stem.porter import PorterStemmer\n",
    "from nltk.tokenize import word_tokenize"
   ]
  },
  {
   "cell_type": "code",
   "execution_count": 2,
   "metadata": {},
   "outputs": [],
   "source": [
    "df = pd.read_csv(\"../Data/Done_with_Labels.csv\")"
   ]
  },
  {
   "cell_type": "code",
   "execution_count": 3,
   "metadata": {},
   "outputs": [
    {
     "output_type": "execute_result",
     "data": {
      "text/plain": [
       "                               product_category_tree  \\\n",
       "0  [\"Clothing >> Women's Clothing >> Lingerie, Sl...   \n",
       "1  [\"Furniture >> Living Room Furniture >> Sofa B...   \n",
       "2  [\"Footwear >> Women's Footwear >> Ballerinas >...   \n",
       "3  [\"Clothing >> Women's Clothing >> Lingerie, Sl...   \n",
       "4  [\"Pet Supplies >> Grooming >> Skin & Coat Care...   \n",
       "\n",
       "                                         description     cat_level1  \\\n",
       "0  Key Features of Alisha Solid Women's Cycling S...      Clothing    \n",
       "1  FabHomeDecor Fabric Double Sofa Bed (Finish Co...     Furniture    \n",
       "2  Key Features of AW Bellies Sandals Wedges Heel...      Footwear    \n",
       "3  Key Features of Alisha Solid Women's Cycling S...      Clothing    \n",
       "4  Specifications of Sicons All Purpose Arnica Do...  Pet Supplies    \n",
       "\n",
       "                cat_level2                   cat_level3 cat_level4  \\\n",
       "0        Women's Clothing    Lingerie Sleep & Swimwear     Shorts    \n",
       "1   Living Room Furniture           Sofa Beds & Futons         NaN   \n",
       "2        Women's Footwear                   Ballerinas         NaN   \n",
       "3        Women's Clothing    Lingerie Sleep & Swimwear     Shorts    \n",
       "4                Grooming             Skin & Coat Care    Shampoo    \n",
       "\n",
       "        cat_level5 cat_level6  \n",
       "0   Alisha Shorts         NaN  \n",
       "1              NaN        NaN  \n",
       "2              NaN        NaN  \n",
       "3   Alisha Shorts         NaN  \n",
       "4              NaN        NaN  "
      ],
      "text/html": "<div>\n<style scoped>\n    .dataframe tbody tr th:only-of-type {\n        vertical-align: middle;\n    }\n\n    .dataframe tbody tr th {\n        vertical-align: top;\n    }\n\n    .dataframe thead th {\n        text-align: right;\n    }\n</style>\n<table border=\"1\" class=\"dataframe\">\n  <thead>\n    <tr style=\"text-align: right;\">\n      <th></th>\n      <th>product_category_tree</th>\n      <th>description</th>\n      <th>cat_level1</th>\n      <th>cat_level2</th>\n      <th>cat_level3</th>\n      <th>cat_level4</th>\n      <th>cat_level5</th>\n      <th>cat_level6</th>\n    </tr>\n  </thead>\n  <tbody>\n    <tr>\n      <th>0</th>\n      <td>[\"Clothing &gt;&gt; Women's Clothing &gt;&gt; Lingerie, Sl...</td>\n      <td>Key Features of Alisha Solid Women's Cycling S...</td>\n      <td>Clothing</td>\n      <td>Women's Clothing</td>\n      <td>Lingerie Sleep &amp; Swimwear</td>\n      <td>Shorts</td>\n      <td>Alisha Shorts</td>\n      <td>NaN</td>\n    </tr>\n    <tr>\n      <th>1</th>\n      <td>[\"Furniture &gt;&gt; Living Room Furniture &gt;&gt; Sofa B...</td>\n      <td>FabHomeDecor Fabric Double Sofa Bed (Finish Co...</td>\n      <td>Furniture</td>\n      <td>Living Room Furniture</td>\n      <td>Sofa Beds &amp; Futons</td>\n      <td>NaN</td>\n      <td>NaN</td>\n      <td>NaN</td>\n    </tr>\n    <tr>\n      <th>2</th>\n      <td>[\"Footwear &gt;&gt; Women's Footwear &gt;&gt; Ballerinas &gt;...</td>\n      <td>Key Features of AW Bellies Sandals Wedges Heel...</td>\n      <td>Footwear</td>\n      <td>Women's Footwear</td>\n      <td>Ballerinas</td>\n      <td>NaN</td>\n      <td>NaN</td>\n      <td>NaN</td>\n    </tr>\n    <tr>\n      <th>3</th>\n      <td>[\"Clothing &gt;&gt; Women's Clothing &gt;&gt; Lingerie, Sl...</td>\n      <td>Key Features of Alisha Solid Women's Cycling S...</td>\n      <td>Clothing</td>\n      <td>Women's Clothing</td>\n      <td>Lingerie Sleep &amp; Swimwear</td>\n      <td>Shorts</td>\n      <td>Alisha Shorts</td>\n      <td>NaN</td>\n    </tr>\n    <tr>\n      <th>4</th>\n      <td>[\"Pet Supplies &gt;&gt; Grooming &gt;&gt; Skin &amp; Coat Care...</td>\n      <td>Specifications of Sicons All Purpose Arnica Do...</td>\n      <td>Pet Supplies</td>\n      <td>Grooming</td>\n      <td>Skin &amp; Coat Care</td>\n      <td>Shampoo</td>\n      <td>NaN</td>\n      <td>NaN</td>\n    </tr>\n  </tbody>\n</table>\n</div>"
     },
     "metadata": {},
     "execution_count": 3
    }
   ],
   "source": [
    "df.head()"
   ]
  },
  {
   "cell_type": "code",
   "execution_count": 4,
   "metadata": {},
   "outputs": [],
   "source": [
    "doc = df.description"
   ]
  },
  {
   "cell_type": "code",
   "execution_count": 5,
   "metadata": {},
   "outputs": [
    {
     "output_type": "execute_result",
     "data": {
      "text/plain": [
       "\"Key Features of Alisha Solid Women's Cycling Shorts Cotton Lycra Navy, Red, Navy,Specifications of Alisha Solid Women's Cycling Shorts Shorts Details Number of Contents in Sales Package Pack of 3 Fabric Cotton Lycra Type Cycling Shorts General Details Pattern Solid Ideal For Women's Fabric Care Gentle Machine Wash in Lukewarm Water, Do Not Bleach Additional Details Style Code ALTHT_3P_21 In the Box 3 shorts\""
      ]
     },
     "metadata": {},
     "execution_count": 5
    }
   ],
   "source": [
    "doc[0]"
   ]
  },
  {
   "cell_type": "markdown",
   "metadata": {},
   "source": [
    "# Text cleanning steps:\n",
    "1. Removing punctuations\n",
    "2. Normalizing (Converting text to lower case)\n",
    "3. Remove stop words\n",
    "4. Lemmanization/Stemming - Converting text to its root form"
   ]
  },
  {
   "cell_type": "code",
   "execution_count": 6,
   "metadata": {},
   "outputs": [],
   "source": [
    "### removing punctuations and normalizing text (lower and only alphabets)\n",
    "\n",
    "doc_clean = [\n",
    "    \"\".join(\n",
    "        [re.sub('[^a-z\\s]+',' ',word.lower(),flags=re.IGNORECASE) for word in review if word not in string.punctuation]\n",
    "    )\n",
    "    for review in doc\n",
    "]"
   ]
  },
  {
   "cell_type": "code",
   "execution_count": 7,
   "metadata": {},
   "outputs": [
    {
     "output_type": "execute_result",
     "data": {
      "text/plain": [
       "'key features of alisha solid womens cycling shorts cotton lycra navy red navyspecifications of alisha solid womens cycling shorts shorts details number of contents in sales package pack of   fabric cotton lycra type cycling shorts general details pattern solid ideal for womens fabric care gentle machine wash in lukewarm water do not bleach additional details style code altht p   in the box   shorts'"
      ]
     },
     "metadata": {},
     "execution_count": 7
    }
   ],
   "source": [
    "doc_clean[0]"
   ]
  },
  {
   "cell_type": "code",
   "execution_count": 8,
   "metadata": {},
   "outputs": [],
   "source": [
    "# convert text to tokens\n",
    "doc_token = [word_tokenize(review) for review in doc_clean]"
   ]
  },
  {
   "cell_type": "code",
   "execution_count": 9,
   "metadata": {},
   "outputs": [],
   "source": [
    "## Removing stopwords and convert words to its root form\n",
    "\n",
    "stopwords = nltk.corpus.stopwords.words(\"english\")\n",
    "wn = WordNetLemmatizer()\n",
    "clean_doc_tokens = [\n",
    "    [\n",
    "        wn.lemmatize(token)\n",
    "        for token in tokens\n",
    "        if token not in stopwords and len(token) > 3\n",
    "    ]\n",
    "    for tokens in doc_token\n",
    "]"
   ]
  },
  {
   "cell_type": "code",
   "execution_count": 10,
   "metadata": {},
   "outputs": [
    {
     "output_type": "execute_result",
     "data": {
      "text/plain": [
       "['feature',\n",
       " 'alisha',\n",
       " 'solid',\n",
       " 'woman',\n",
       " 'cycling',\n",
       " 'short',\n",
       " 'cotton',\n",
       " 'lycra',\n",
       " 'navy',\n",
       " 'navyspecifications',\n",
       " 'alisha',\n",
       " 'solid',\n",
       " 'woman',\n",
       " 'cycling',\n",
       " 'short',\n",
       " 'short',\n",
       " 'detail',\n",
       " 'number',\n",
       " 'content',\n",
       " 'sale',\n",
       " 'package',\n",
       " 'pack',\n",
       " 'fabric',\n",
       " 'cotton',\n",
       " 'lycra',\n",
       " 'type',\n",
       " 'cycling',\n",
       " 'short',\n",
       " 'general',\n",
       " 'detail',\n",
       " 'pattern',\n",
       " 'solid',\n",
       " 'ideal',\n",
       " 'woman',\n",
       " 'fabric',\n",
       " 'care',\n",
       " 'gentle',\n",
       " 'machine',\n",
       " 'wash',\n",
       " 'lukewarm',\n",
       " 'water',\n",
       " 'bleach',\n",
       " 'additional',\n",
       " 'detail',\n",
       " 'style',\n",
       " 'code',\n",
       " 'altht',\n",
       " 'short']"
      ]
     },
     "metadata": {},
     "execution_count": 10
    }
   ],
   "source": [
    "clean_doc_tokens[0]"
   ]
  },
  {
   "cell_type": "code",
   "execution_count": 11,
   "metadata": {},
   "outputs": [
    {
     "output_type": "execute_result",
     "data": {
      "text/plain": [
       "['key',\n",
       " 'features',\n",
       " 'of',\n",
       " 'alisha',\n",
       " 'solid',\n",
       " 'womens',\n",
       " 'cycling',\n",
       " 'shorts',\n",
       " 'cotton',\n",
       " 'lycra',\n",
       " 'navy',\n",
       " 'red',\n",
       " 'navyspecifications',\n",
       " 'of',\n",
       " 'alisha',\n",
       " 'solid',\n",
       " 'womens',\n",
       " 'cycling',\n",
       " 'shorts',\n",
       " 'shorts',\n",
       " 'details',\n",
       " 'number',\n",
       " 'of',\n",
       " 'contents',\n",
       " 'in',\n",
       " 'sales',\n",
       " 'package',\n",
       " 'pack',\n",
       " 'of',\n",
       " 'fabric',\n",
       " 'cotton',\n",
       " 'lycra',\n",
       " 'type',\n",
       " 'cycling',\n",
       " 'shorts',\n",
       " 'general',\n",
       " 'details',\n",
       " 'pattern',\n",
       " 'solid',\n",
       " 'ideal',\n",
       " 'for',\n",
       " 'womens',\n",
       " 'fabric',\n",
       " 'care',\n",
       " 'gentle',\n",
       " 'machine',\n",
       " 'wash',\n",
       " 'in',\n",
       " 'lukewarm',\n",
       " 'water',\n",
       " 'do',\n",
       " 'not',\n",
       " 'bleach',\n",
       " 'additional',\n",
       " 'details',\n",
       " 'style',\n",
       " 'code',\n",
       " 'altht',\n",
       " 'p',\n",
       " 'in',\n",
       " 'the',\n",
       " 'box',\n",
       " 'shorts']"
      ]
     },
     "metadata": {},
     "execution_count": 11
    }
   ],
   "source": [
    "doc_token[0]"
   ]
  },
  {
   "cell_type": "code",
   "execution_count": 12,
   "metadata": {},
   "outputs": [],
   "source": [
    "cleaned_text = [\" \".join(token) for token in clean_doc_tokens]"
   ]
  },
  {
   "cell_type": "code",
   "execution_count": 13,
   "metadata": {},
   "outputs": [
    {
     "output_type": "execute_result",
     "data": {
      "text/plain": [
       "'feature alisha solid woman cycling short cotton lycra navy navyspecifications alisha solid woman cycling short short detail number content sale package pack fabric cotton lycra type cycling short general detail pattern solid ideal woman fabric care gentle machine wash lukewarm water bleach additional detail style code altht short'"
      ]
     },
     "metadata": {},
     "execution_count": 13
    }
   ],
   "source": [
    "cleaned_text[0]"
   ]
  },
  {
   "cell_type": "code",
   "execution_count": 14,
   "metadata": {},
   "outputs": [],
   "source": [
    "df[\"cleaned_text\"] = cleaned_text"
   ]
  },
  {
   "cell_type": "code",
   "execution_count": 15,
   "metadata": {},
   "outputs": [],
   "source": [
    "df.to_csv(\"../Data/Done_with_Description.csv\", index=False)"
   ]
  },
  {
   "cell_type": "markdown",
   "metadata": {},
   "source": [
    "# Continued in Step-4"
   ]
  }
 ],
 "metadata": {
  "kernelspec": {
   "name": "python385jvsc74a57bd0fffb4230f7c368ae70968f69593112550c59f2f3e16add00c33b6f4a4a5286dc",
   "display_name": "Python 3.8.5 64-bit (conda)"
  },
  "language_info": {
   "codemirror_mode": {
    "name": "ipython",
    "version": 3
   },
   "file_extension": ".py",
   "mimetype": "text/x-python",
   "name": "python",
   "nbconvert_exporter": "python",
   "pygments_lexer": "ipython3",
   "version": "3.8.5-final"
  },
  "metadata": {
   "interpreter": {
    "hash": "81c591a7e950bbc20df9157210399e920b6eb5cc08dbdb6b6a9d0b4c3e425ca6"
   }
  }
 },
 "nbformat": 4,
 "nbformat_minor": 2
}